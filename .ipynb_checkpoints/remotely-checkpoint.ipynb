{
 "cells": [
  {
   "cell_type": "code",
   "execution_count": 1,
   "metadata": {},
   "outputs": [],
   "source": [
    "using Distributed\n",
    "workervec = [\"haz@uno:2222\", 3]\n",
    "addprocs(workervec; dir=\"/home/haz\", exename=\"/usr/bin/julia\") \n",
    "@everywhere using Distributed "
   ]
  },
  {
   "cell_type": "code",
   "execution_count": 3,
   "metadata": {},
   "outputs": [
    {
     "name": "stderr",
     "output_type": "stream",
     "text": [
      "exception launching on machine 1 : MethodError(Distributed.launch_on_machine, (SSHManager(machines=Dict{Any,Any}(\"haz@uno:2222\" => 1,1 => 1)), 1, 1, Dict{Symbol,Any}(:lazy => true,:tunnel => false,:topology => :all_to_all,:multiplex => false,:sshflags => ``,:max_parallel => 10,:exeflags => ``,:enable_threaded_blas => false,:exename => \"/home/haz/julia-1.5.2/bin/julia\",:dir => \"/home/haz\"), WorkerConfig[], Base.GenericCondition{Base.AlwaysLockedST}(Base.InvasiveLinkedList{Task}(Task (runnable) @0x000000010f30ad10, Task (runnable) @0x000000010f30ad10), Base.AlwaysLockedST(1))), 0x0000000000006cb4)\n"
     ]
    },
    {
     "ename": "LoadError",
     "evalue": "TaskFailedException:\nworker did not connect within 60.0 seconds\nStacktrace:\n [1] error(::String) at ./error.jl:33\n [2] create_worker(::Distributed.SSHManager, ::WorkerConfig) at /Users/julia/buildbot/worker/package_macos64/build/usr/share/julia/stdlib/v1.5/Distributed/src/cluster.jl:672\n [3] setup_launched_worker(::Distributed.SSHManager, ::WorkerConfig, ::Array{Int64,1}) at /Users/julia/buildbot/worker/package_macos64/build/usr/share/julia/stdlib/v1.5/Distributed/src/cluster.jl:526\n [4] (::Distributed.var\"#41#44\"{Distributed.SSHManager,Array{Int64,1},WorkerConfig})() at ./task.jl:356",
     "output_type": "error",
     "traceback": [
      "TaskFailedException:\nworker did not connect within 60.0 seconds\nStacktrace:\n [1] error(::String) at ./error.jl:33\n [2] create_worker(::Distributed.SSHManager, ::WorkerConfig) at /Users/julia/buildbot/worker/package_macos64/build/usr/share/julia/stdlib/v1.5/Distributed/src/cluster.jl:672\n [3] setup_launched_worker(::Distributed.SSHManager, ::WorkerConfig, ::Array{Int64,1}) at /Users/julia/buildbot/worker/package_macos64/build/usr/share/julia/stdlib/v1.5/Distributed/src/cluster.jl:526\n [4] (::Distributed.var\"#41#44\"{Distributed.SSHManager,Array{Int64,1},WorkerConfig})() at ./task.jl:356",
      "",
      "Stacktrace:",
      " [1] sync_end(::Channel{Any}) at ./task.jl:314",
      " [2] macro expansion at ./task.jl:333 [inlined]",
      " [3] addprocs_locked(::Distributed.SSHManager; kwargs::Base.Iterators.Pairs{Symbol,Any,NTuple{6,Symbol},NamedTuple{(:tunnel, :multiplex, :sshflags, :max_parallel, :dir, :exename),Tuple{Bool,Bool,Cmd,Int64,String,String}}}) at /Users/julia/buildbot/worker/package_macos64/build/usr/share/julia/stdlib/v1.5/Distributed/src/cluster.jl:480",
      " [4] addprocs(::Distributed.SSHManager; kwargs::Base.Iterators.Pairs{Symbol,Any,NTuple{6,Symbol},NamedTuple{(:tunnel, :multiplex, :sshflags, :max_parallel, :dir, :exename),Tuple{Bool,Bool,Cmd,Int64,String,String}}}) at /Users/julia/buildbot/worker/package_macos64/build/usr/share/julia/stdlib/v1.5/Distributed/src/cluster.jl:444",
      " [5] #addprocs#241 at /Users/julia/buildbot/worker/package_macos64/build/usr/share/julia/stdlib/v1.5/Distributed/src/managers.jl:120 [inlined]",
      " [6] top-level scope at In[3]:2",
      " [7] include_string(::Function, ::Module, ::String, ::String) at ./loading.jl:1091",
      " [8] execute_code(::String, ::String) at /Users/geoffryroberts/.julia/packages/IJulia/a1SNk/src/execute_request.jl:27",
      " [9] execute_request(::ZMQ.Socket, ::IJulia.Msg) at /Users/geoffryroberts/.julia/packages/IJulia/a1SNk/src/execute_request.jl:86",
      " [10] #invokelatest#1 at ./essentials.jl:710 [inlined]",
      " [11] invokelatest at ./essentials.jl:709 [inlined]",
      " [12] eventloop(::ZMQ.Socket) at /Users/geoffryroberts/.julia/packages/IJulia/a1SNk/src/eventloop.jl:8",
      " [13] (::IJulia.var\"#15#18\")() at ./task.jl:356"
     ]
    },
    {
     "name": "stdout",
     "output_type": "stream",
     "text": [
      "      From worker 3:\tMaster process (id 1) could not connect within 60.0 seconds.\n",
      "      From worker 3:\texiting.\n"
     ]
    },
    {
     "name": "stderr",
     "output_type": "stream",
     "text": [
      "Worker 3 terminated.\n"
     ]
    }
   ],
   "source": [
    "f = @spawnat :any myid()\n",
    "fetch(f)"
   ]
  },
  {
   "cell_type": "code",
   "execution_count": null,
   "metadata": {},
   "outputs": [],
   "source": []
  }
 ],
 "metadata": {
  "kernelspec": {
   "display_name": "Julia 1.5.2",
   "language": "julia",
   "name": "julia-1.5"
  },
  "language_info": {
   "file_extension": ".jl",
   "mimetype": "application/julia",
   "name": "julia",
   "version": "1.5.2"
  }
 },
 "nbformat": 4,
 "nbformat_minor": 4
}
