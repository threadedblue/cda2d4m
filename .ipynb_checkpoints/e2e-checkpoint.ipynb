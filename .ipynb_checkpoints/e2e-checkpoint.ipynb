{
 "cells": [
  {
   "cell_type": "code",
   "execution_count": 1,
   "metadata": {},
   "outputs": [
    {
     "name": "stderr",
     "output_type": "stream",
     "text": [
      "┌ Warning: JavaCall needs the environment variable `JULIA_COPY_STACKS` to be `1` or `yes`.\n",
      "│ Calling the JVM may result in undefined behavior.\n",
      "└ @ JavaCall /Users/geoffryroberts/.julia/packages/JavaCall/aVXyt/src/JavaCall.jl:53\n",
      "┌ Info: Precompiling AAUtils [805b5154-e8fb-11e8-077b-03e1cb94bb77]\n",
      "└ @ Base loading.jl:1278\n",
      "┌ Warning: JavaCall needs the environment variable `JULIA_COPY_STACKS` to be `1` or `yes`.\n",
      "│ Calling the JVM may result in undefined behavior.\n",
      "└ @ JavaCall ~/.julia/packages/JavaCall/aVXyt/src/JavaCall.jl:53\n"
     ]
    },
    {
     "ename": "LoadError",
     "evalue": "InitError: could not load library \"/Users/geoffryroberts/.julia/artifacts/34970354470efa0ab8a80c455d13a16caec8cc7c/lib/libass.9.dylib\"\ndlopen(/Users/geoffryroberts/.julia/artifacts/34970354470efa0ab8a80c455d13a16caec8cc7c/lib/libass.9.dylib, 1): Library not loaded: @rpath/libfreetype.6.dylib\n  Referenced from: /Users/geoffryroberts/.julia/artifacts/34970354470efa0ab8a80c455d13a16caec8cc7c/lib/libass.9.dylib\n  Reason: Incompatible library version: libass.9.dylib requires version 24.0.0 or later, but libfreetype.6.dylib provides version 23.0.0\nduring initialization of module libass_jll",
     "output_type": "error",
     "traceback": [
      "InitError: could not load library \"/Users/geoffryroberts/.julia/artifacts/34970354470efa0ab8a80c455d13a16caec8cc7c/lib/libass.9.dylib\"\ndlopen(/Users/geoffryroberts/.julia/artifacts/34970354470efa0ab8a80c455d13a16caec8cc7c/lib/libass.9.dylib, 1): Library not loaded: @rpath/libfreetype.6.dylib\n  Referenced from: /Users/geoffryroberts/.julia/artifacts/34970354470efa0ab8a80c455d13a16caec8cc7c/lib/libass.9.dylib\n  Reason: Incompatible library version: libass.9.dylib requires version 24.0.0 or later, but libfreetype.6.dylib provides version 23.0.0\nduring initialization of module libass_jll",
      "",
      "Stacktrace:",
      " [1] dlopen(::String, ::UInt32; throw_error::Bool) at /Users/julia/buildbot/worker/package_macos64/build/usr/share/julia/stdlib/v1.5/Libdl/src/Libdl.jl:109",
      " [2] dlopen(::String, ::UInt32) at /Users/julia/buildbot/worker/package_macos64/build/usr/share/julia/stdlib/v1.5/Libdl/src/Libdl.jl:109",
      " [3] macro expansion at /Users/geoffryroberts/.julia/packages/JLLWrappers/KuIwt/src/products/library_generators.jl:61 [inlined]",
      " [4] __init__() at /Users/geoffryroberts/.julia/packages/libass_jll/uUbBl/src/wrappers/x86_64-apple-darwin.jl:12",
      " [5] _include_from_serialized(::String, ::Array{Any,1}) at ./loading.jl:697",
      " [6] _require_search_from_serialized(::Base.PkgId, ::String) at ./loading.jl:782",
      " [7] _tryrequire_from_serialized(::Base.PkgId, ::UInt64, ::String) at ./loading.jl:712",
      " [8] _require_search_from_serialized(::Base.PkgId, ::String) at ./loading.jl:771",
      " [9] _require(::Base.PkgId) at ./loading.jl:1007",
      " [10] require(::Base.PkgId) at ./loading.jl:928",
      " [11] require(::Module, ::Symbol) at ./loading.jl:923",
      " [12] include_string(::Function, ::Module, ::String, ::String) at ./loading.jl:1091",
      " [13] execute_code(::String, ::String) at /Users/geoffryroberts/.julia/packages/IJulia/a1SNk/src/execute_request.jl:27",
      " [14] execute_request(::ZMQ.Socket, ::IJulia.Msg) at /Users/geoffryroberts/.julia/packages/IJulia/a1SNk/src/execute_request.jl:86",
      " [15] #invokelatest#1 at ./essentials.jl:710 [inlined]",
      " [16] invokelatest at ./essentials.jl:709 [inlined]",
      " [17] eventloop(::ZMQ.Socket) at /Users/geoffryroberts/.julia/packages/IJulia/a1SNk/src/eventloop.jl:8",
      " [18] (::IJulia.var\"#15#18\")() at ./task.jl:356"
     ]
    }
   ],
   "source": [
    "using D4M, DataFrames, StatsBase, AAUtils, Plots\n",
    "include(\"unoDBsetup.jl\")\n",
    "ENV[\"LINES\"] = 600\n",
    "ENV[\"COLUMNS\"] = 500\n",
    "IJulia.set_max_stdio(1 << 20)\n",
    "TcdIt = D4M.getiterator(Tccd, 100)\n",
    ";"
   ]
  },
  {
   "cell_type": "code",
   "execution_count": 6,
   "metadata": {},
   "outputs": [
    {
     "data": {
      "text/html": [
       "<table class=\"data-frame\"><thead><tr><th></th><th>Immunizations.Material.CE:113</th><th>Immunizations.Material.CE:121</th><th>Immunizations.Material.CE:133</th><th>Immunizations.Material.CE:140</th><th>Immunizations.Material.CE:33</th><th>Immunizations.Material.CE:Influenza, seasonal, injectable, preservative free</th><th>Immunizations.Material.CE:Pneumococcal conjugate PCV 13</th><th>Immunizations.Material.CE:Td (adult) preservative free</th><th>Immunizations.Material.CE:pneumococcal polysaccharide vaccine, 23 valent</th><th>Immunizations.Material.CE:zoster</th><th>Immunizations.Material.Title:Influenza, seasonal, injectable, preservative free</th></tr><tr><th></th><th>Union…</th><th>Union…</th><th>Union…</th><th>Union…</th><th>Union…</th><th>Union…</th><th>Union…</th><th>Union…</th><th>Union…</th><th>Union…</th><th>Union…</th></tr></thead><tbody><p>3 rows × 18 columns (omitted printing of 7 columns)</p><tr><th>1</th><td>41df8765-850d-425d-aabc-701ce528f662</td><td>1</td><td></td><td></td><td>1</td><td></td><td>1</td><td></td><td>1</td><td></td><td></td></tr><tr><th>2</th><td>6a6749a1-27ba-489d-9729-b14f8f33236a</td><td>1</td><td></td><td>1</td><td>1</td><td>1</td><td>1</td><td>1</td><td>1</td><td>1</td><td></td></tr><tr><th>3</th><td>e18ffd74-a976-45b5-8478-a07adca1f474</td><td>1</td><td>1</td><td></td><td>1</td><td></td><td>1</td><td></td><td>1</td><td></td><td>1</td></tr></tbody></table>"
      ],
      "text/latex": [
       "\\begin{tabular}{r|cccccccccccc}\n",
       "\t& Immunizations.Material.CE:113 & Immunizations.Material.CE:121 & Immunizations.Material.CE:133 & Immunizations.Material.CE:140 & Immunizations.Material.CE:33 & Immunizations.Material.CE:Influenza, seasonal, injectable, preservative free & Immunizations.Material.CE:Pneumococcal conjugate PCV 13 & Immunizations.Material.CE:Td (adult) preservative free & Immunizations.Material.CE:pneumococcal polysaccharide vaccine, 23 valent & Immunizations.Material.CE:zoster & Immunizations.Material.Title:Influenza, seasonal, injectable, preservative free & \\\\\n",
       "\t\\hline\n",
       "\t& Union… & Union… & Union… & Union… & Union… & Union… & Union… & Union… & Union… & Union… & Union… & \\\\\n",
       "\t\\hline\n",
       "\t1 & 41df8765-850d-425d-aabc-701ce528f662 & 1 &  &  & 1 &  & 1 &  & 1 &  &  & $\\dots$ \\\\\n",
       "\t2 & 6a6749a1-27ba-489d-9729-b14f8f33236a & 1 &  & 1 & 1 & 1 & 1 & 1 & 1 & 1 &  & $\\dots$ \\\\\n",
       "\t3 & e18ffd74-a976-45b5-8478-a07adca1f474 & 1 & 1 &  & 1 &  & 1 &  & 1 &  & 1 & $\\dots$ \\\\\n",
       "\\end{tabular}\n"
      ],
      "text/plain": [
       "3×18 DataFrame. Omitted printing of 8 columns\n",
       "│ Row │ Immunizations.Material.CE:113        │ Immunizations.Material.CE:121 │ Immunizations.Material.CE:133 │ Immunizations.Material.CE:140 │ Immunizations.Material.CE:33 │ Immunizations.Material.CE:Influenza, seasonal, injectable, preservative free │ Immunizations.Material.CE:Pneumococcal conjugate PCV 13 │ Immunizations.Material.CE:Td (adult) preservative free │ Immunizations.Material.CE:pneumococcal polysaccharide vaccine, 23 valent │ Immunizations.Material.CE:zoster │\n",
       "│     │ \u001b[90mUnion{AbstractString, Number}\u001b[39m        │ \u001b[90mUnion{AbstractString, Number}\u001b[39m │ \u001b[90mUnion{AbstractString, Number}\u001b[39m │ \u001b[90mUnion{AbstractString, Number}\u001b[39m │ \u001b[90mUnion…\u001b[39m                       │ \u001b[90mUnion{AbstractString, Number}\u001b[39m                                                │ \u001b[90mUnion{AbstractString, Number}\u001b[39m                           │ \u001b[90mUnion{AbstractString, Number}\u001b[39m                          │ \u001b[90mUnion{AbstractString, Number}\u001b[39m                                            │ \u001b[90mUnion{AbstractString, Number}\u001b[39m    │\n",
       "├─────┼──────────────────────────────────────┼───────────────────────────────┼───────────────────────────────┼───────────────────────────────┼──────────────────────────────┼──────────────────────────────────────────────────────────────────────────────┼─────────────────────────────────────────────────────────┼────────────────────────────────────────────────────────┼──────────────────────────────────────────────────────────────────────────┼──────────────────────────────────┤\n",
       "│ 1   │ 41df8765-850d-425d-aabc-701ce528f662 │ 1                             │                               │                               │ 1                            │                                                                              │ 1                                                       │                                                        │ 1                                                                        │                                  │\n",
       "│ 2   │ 6a6749a1-27ba-489d-9729-b14f8f33236a │ 1                             │                               │ 1                             │ 1                            │ 1                                                                            │ 1                                                       │ 1                                                      │ 1                                                                        │ 1                                │\n",
       "│ 3   │ e18ffd74-a976-45b5-8478-a07adca1f474 │ 1                             │ 1                             │                               │ 1                            │                                                                              │ 1                                                       │                                                        │ 1                                                                        │                                  │"
      ]
     },
     "execution_count": 6,
     "metadata": {},
     "output_type": "execute_result"
    }
   ],
   "source": [
    "T = TcdIt[:,StartsWith(\"Immunizations,\")]\n",
    "aa2df(T)"
   ]
  },
  {
   "cell_type": "code",
   "execution_count": 8,
   "metadata": {},
   "outputs": [
    {
     "data": {
      "text/plain": [
       "Dict{SubString{String},Int64} with 17 entries:\n",
       "  \"Immunizations.Material.Title:Td (adult) preservative free\"                       => 3\n",
       "  \"Immunizations.Material.CE:Pneumococcal conjugate PCV 13\"                         => 1\n",
       "  \"Immunizations.Material.Title:Influenza, seasonal, injectable, preservative free\" => 3\n",
       "  \"Immunizations.Material.CE:33\"                                                    => 1\n",
       "  \"Immunizations.Material.CE:140\"                                                   => 3\n",
       "  \"Immunizations.SubstanceAdministration.CD:IMMUNIZ\"                                => 3\n",
       "  \"Immunizations.Material.Title:pneumococcal polysaccharide vaccine, 23 valent\"     => 1\n",
       "  \"Immunizations.Material.Title:Pneumococcal conjugate PCV 13\"                      => 1\n",
       "  \"Immunizations.Material.CE:Influenza, seasonal, injectable, preservative free\"    => 3\n",
       "  \"Immunizations.Material.CE:113\"                                                   => 3\n",
       "  \"Immunizations.Material.CE:pneumococcal polysaccharide vaccine, 23 valent\"        => 1\n",
       "  \"Immunizations.Material.CE:zoster\"                                                => 1\n",
       "  \"Immunizations.SubstanceAdministration.CD:ActCode\"                                => 3\n",
       "  \"Immunizations.Material.Title:zoster\"                                             => 1\n",
       "  \"Immunizations.Material.CE:121\"                                                   => 1\n",
       "  \"Immunizations.Material.CE:133\"                                                   => 1\n",
       "  \"Immunizations.Material.CE:Td (adult) preservative free\"                          => 3"
      ]
     },
     "execution_count": 8,
     "metadata": {},
     "output_type": "execute_result"
    }
   ],
   "source": [
    "r,c,v = find(T)\n",
    "countmap(c)"
   ]
  },
  {
   "cell_type": "code",
   "execution_count": null,
   "metadata": {},
   "outputs": [],
   "source": []
  }
 ],
 "metadata": {
  "kernelspec": {
   "display_name": "Julia 1.5.2",
   "language": "julia",
   "name": "julia-1.5"
  },
  "language_info": {
   "file_extension": ".jl",
   "mimetype": "application/julia",
   "name": "julia",
   "version": "1.5.2"
  }
 },
 "nbformat": 4,
 "nbformat_minor": 4
}
