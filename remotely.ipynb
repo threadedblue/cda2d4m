{
 "cells": [
  {
   "cell_type": "raw",
   "metadata": {},
   "source": [
    "using Distributed\n",
    "workervec = [(\"gcr@haz00\", 3)]\n",
    "addprocs(workervec; dir=\"/home/gcr\", exename=\"/usr/bin/julia\") \n",
    "\n",
    "@everywhere using Distributed "
   ]
  },
  {
   "cell_type": "code",
   "execution_count": 6,
   "metadata": {},
   "outputs": [
    {
     "data": {
      "text/plain": [
       "1"
      ]
     },
     "execution_count": 6,
     "metadata": {},
     "output_type": "execute_result"
    }
   ],
   "source": [
    "f = @spawnat :any myid()\n",
    "fetch(f)"
   ]
  },
  {
   "cell_type": "code",
   "execution_count": null,
   "metadata": {},
   "outputs": [],
   "source": [
    "f = @spawnat :any gethostname()"
   ]
  }
 ],
 "metadata": {
  "kernelspec": {
   "display_name": "Julia 1.5.2",
   "language": "julia",
   "name": "julia-1.5"
  },
  "language_info": {
   "file_extension": ".jl",
   "mimetype": "application/julia",
   "name": "julia",
   "version": "1.5.2"
  }
 },
 "nbformat": 4,
 "nbformat_minor": 4
}
